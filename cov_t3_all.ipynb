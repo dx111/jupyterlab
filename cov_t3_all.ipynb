{
 "cells": [
  {
   "cell_type": "code",
   "execution_count": 2,
   "metadata": {},
   "outputs": [],
   "source": [
    "import matplotlib.pyplot as plt\n",
    "import pandas as pd\n",
    "from mpl_toolkits.mplot3d import Axes3D\n",
    "import numpy as np\n",
    "from plot_cmp import plot_compare"
   ]
  },
  {
   "cell_type": "code",
   "execution_count": 5,
   "metadata": {},
   "outputs": [
    {
     "data": {
      "text/html": [
       "<div>\n",
       "<style scoped>\n",
       "    .dataframe tbody tr th:only-of-type {\n",
       "        vertical-align: middle;\n",
       "    }\n",
       "\n",
       "    .dataframe tbody tr th {\n",
       "        vertical-align: top;\n",
       "    }\n",
       "\n",
       "    .dataframe thead th {\n",
       "        text-align: right;\n",
       "    }\n",
       "</style>\n",
       "<table border=\"1\" class=\"dataframe\">\n",
       "  <thead>\n",
       "    <tr style=\"text-align: right;\">\n",
       "      <th></th>\n",
       "      <th>acc</th>\n",
       "      <th>val_acc</th>\n",
       "      <th>type</th>\n",
       "      <th>sigma</th>\n",
       "      <th>lambda</th>\n",
       "      <th>n1</th>\n",
       "      <th>n2</th>\n",
       "      <th>n3</th>\n",
       "      <th>n4</th>\n",
       "      <th>sp1</th>\n",
       "      <th>sp2</th>\n",
       "      <th>sp3</th>\n",
       "      <th>sp4</th>\n",
       "    </tr>\n",
       "  </thead>\n",
       "  <tbody>\n",
       "    <tr>\n",
       "      <th>0</th>\n",
       "      <td>0.836824</td>\n",
       "      <td>0.833702</td>\n",
       "      <td>type3</td>\n",
       "      <td>0.25</td>\n",
       "      <td>0.001963</td>\n",
       "      <td>51.333333</td>\n",
       "      <td>50.0</td>\n",
       "      <td>49.666667</td>\n",
       "      <td>18.666667</td>\n",
       "      <td>0.066049</td>\n",
       "      <td>0.002667</td>\n",
       "      <td>0.042333</td>\n",
       "      <td>0.066667</td>\n",
       "    </tr>\n",
       "    <tr>\n",
       "      <th>1</th>\n",
       "      <td>0.824030</td>\n",
       "      <td>0.821568</td>\n",
       "      <td>type3</td>\n",
       "      <td>0.25</td>\n",
       "      <td>0.002066</td>\n",
       "      <td>52.000000</td>\n",
       "      <td>50.0</td>\n",
       "      <td>49.333333</td>\n",
       "      <td>19.000000</td>\n",
       "      <td>0.055556</td>\n",
       "      <td>0.012133</td>\n",
       "      <td>0.023333</td>\n",
       "      <td>0.057143</td>\n",
       "    </tr>\n",
       "    <tr>\n",
       "      <th>2</th>\n",
       "      <td>0.825748</td>\n",
       "      <td>0.822491</td>\n",
       "      <td>type3</td>\n",
       "      <td>0.25</td>\n",
       "      <td>0.002169</td>\n",
       "      <td>51.666667</td>\n",
       "      <td>50.0</td>\n",
       "      <td>49.666667</td>\n",
       "      <td>19.000000</td>\n",
       "      <td>0.064074</td>\n",
       "      <td>0.005067</td>\n",
       "      <td>0.037333</td>\n",
       "      <td>0.050000</td>\n",
       "    </tr>\n",
       "    <tr>\n",
       "      <th>3</th>\n",
       "      <td>0.831650</td>\n",
       "      <td>0.829013</td>\n",
       "      <td>type3</td>\n",
       "      <td>0.25</td>\n",
       "      <td>0.002271</td>\n",
       "      <td>51.666667</td>\n",
       "      <td>50.0</td>\n",
       "      <td>49.666667</td>\n",
       "      <td>19.000000</td>\n",
       "      <td>0.065679</td>\n",
       "      <td>0.003333</td>\n",
       "      <td>0.020667</td>\n",
       "      <td>0.052381</td>\n",
       "    </tr>\n",
       "    <tr>\n",
       "      <th>4</th>\n",
       "      <td>0.828480</td>\n",
       "      <td>0.825863</td>\n",
       "      <td>type3</td>\n",
       "      <td>0.25</td>\n",
       "      <td>0.002374</td>\n",
       "      <td>52.333333</td>\n",
       "      <td>50.0</td>\n",
       "      <td>48.666667</td>\n",
       "      <td>17.666667</td>\n",
       "      <td>0.070370</td>\n",
       "      <td>0.008667</td>\n",
       "      <td>0.054333</td>\n",
       "      <td>0.116667</td>\n",
       "    </tr>\n",
       "  </tbody>\n",
       "</table>\n",
       "</div>"
      ],
      "text/plain": [
       "        acc   val_acc   type  sigma    lambda         n1    n2         n3  \\\n",
       "0  0.836824  0.833702  type3   0.25  0.001963  51.333333  50.0  49.666667   \n",
       "1  0.824030  0.821568  type3   0.25  0.002066  52.000000  50.0  49.333333   \n",
       "2  0.825748  0.822491  type3   0.25  0.002169  51.666667  50.0  49.666667   \n",
       "3  0.831650  0.829013  type3   0.25  0.002271  51.666667  50.0  49.666667   \n",
       "4  0.828480  0.825863  type3   0.25  0.002374  52.333333  50.0  48.666667   \n",
       "\n",
       "          n4       sp1       sp2       sp3       sp4  \n",
       "0  18.666667  0.066049  0.002667  0.042333  0.066667  \n",
       "1  19.000000  0.055556  0.012133  0.023333  0.057143  \n",
       "2  19.000000  0.064074  0.005067  0.037333  0.050000  \n",
       "3  19.000000  0.065679  0.003333  0.020667  0.052381  \n",
       "4  17.666667  0.070370  0.008667  0.054333  0.116667  "
      ]
     },
     "execution_count": 5,
     "metadata": {},
     "output_type": "execute_result"
    }
   ],
   "source": [
    "data=pd.read_csv(\"all_res/covtype_type3_all.csv\")\n",
    "data.head()"
   ]
  },
  {
   "cell_type": "code",
   "execution_count": 11,
   "metadata": {},
   "outputs": [
    {
     "data": {
      "image/png": "[encoded data removed]",
      "text/plain": [
       "<Figure size 576x432 with 1 Axes>"
      ]
     },
     "metadata": {},
     "output_type": "display_data"
    }
   ],
   "source": [
    "data=data[data[\"val_acc\"]>0.8]\n",
    "sigma=data[\"sigma\"].drop_duplicates().tolist()\n",
    "data_list=[]\n",
    "data_label=[]\n",
    "for sig in sigma:\n",
    "    data_list.append(data[data[\"sigma\"]==sig])\n",
    "    data_label.append(sig)\n",
    "bench_list=[\"SG_L1\",\"L1_NN\",\"L2_NN\"]\n",
    "fig=plot_compare(dataset_list=data_list,data_label=data_label,compare_type=\"Feature_selection\",dataset_name=\"covtype\",bench_list=bench_list)"
   ]
  },
  {
   "cell_type": "code",
   "execution_count": null,
   "metadata": {},
   "outputs": [],
   "source": [
    "data_list=[type1,type3]\n",
    "dataset_label_list=[\"type1\",\"type3\"]\n"
   ]
  }
 ],
 "metadata": {
  "kernelspec": {
   "display_name": "Python 3",
   "language": "python",
   "name": "python3"
  },
  "language_info": {
   "codemirror_mode": {
    "name": "ipython",
    "version": 3
   },
   "file_extension": ".py",
   "mimetype": "text/x-python",
   "name": "python",
   "nbconvert_exporter": "python",
   "pygments_lexer": "ipython3",
   "version": "3.6.5"
  }
 },
 "nbformat": 4,
 "nbformat_minor": 2
}
